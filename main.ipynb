{
 "cells": [
  {
   "cell_type": "code",
   "execution_count": null,
   "id": "44d63fde-5a9b-43af-a7e7-6d4b8da5eb71",
   "metadata": {
    "execution": {
     "iopub.execute_input": "2025-03-05T05:24:02.808846Z",
     "iopub.status.busy": "2025-03-05T05:24:02.807831Z",
     "iopub.status.idle": "2025-03-05T05:24:02.830613Z",
     "shell.execute_reply": "2025-03-05T05:24:02.829726Z",
     "shell.execute_reply.started": "2025-03-05T05:24:02.808804Z"
    },
    "tags": []
   },
   "outputs": [],
   "source": [
    "import time\n",
    "import pandas as pd\n",
    "\n",
    "from sklearn.model_selection import train_test_split\n",
    "from sklearn.metrics import accuracy_score\n",
    "\n",
    "from sklearn.ensemble import RandomForestClassifier\n",
    "\n",
    "from pathlib import Path\n",
    "\n",
    "from sklearn.preprocessing import StandardScaler\n",
    "from sklearn.preprocessing import LabelEncoder\n",
    "from sklearn.decomposition import PCA\n",
    "from sklearn.utils import shuffle\n",
    "\n",
    "import seaborn as sns\n",
    "import matplotlib.pyplot as plt"
   ]
  },
  {
   "cell_type": "code",
   "execution_count": 2,
   "id": "b03663ab-881a-4d61-9b89-7619b1e34081",
   "metadata": {
    "execution": {
     "iopub.execute_input": "2025-03-04T23:00:54.791755Z",
     "iopub.status.busy": "2025-03-04T23:00:54.791077Z",
     "iopub.status.idle": "2025-03-04T23:00:54.816641Z",
     "shell.execute_reply": "2025-03-04T23:00:54.815983Z",
     "shell.execute_reply.started": "2025-03-04T23:00:54.791731Z"
    },
    "tags": []
   },
   "outputs": [],
   "source": [
    "def load_data_frame():\n",
    "    file_path = Path(\"full_data.csv\")\n",
    "\n",
    "    if file_path.exists():\n",
    "        df = pd.read_csv(file_path)\n",
    "        print(\"Полная обучающая выборка загружена\")\n",
    "    else:\n",
    "        print(\"Полная обучающая выборка не обнаружена\")\n",
    "        all_files = [f\"/home/jupyter/datasphere/project/human_activity_recognition/csh{i}/csh{i}.ann.features.csv\" for i in range(101, 131)]\n",
    "        df = pd.concat([pd.read_csv(f) for f in all_files], axis=0)\n",
    "        pd.DataFrame(full_data).to_csv(\"full_data.csv\", index=False)\n",
    "        print(\"Полная обучающая выборка загружена и сохранена\")\n",
    "    return df"
   ]
  },
  {
   "cell_type": "code",
   "execution_count": 3,
   "id": "11a94218-0908-403d-948b-b9b8daf8c895",
   "metadata": {
    "execution": {
     "iopub.execute_input": "2025-03-04T23:00:54.817967Z",
     "iopub.status.busy": "2025-03-04T23:00:54.817419Z",
     "iopub.status.idle": "2025-03-04T23:00:54.835588Z",
     "shell.execute_reply": "2025-03-04T23:00:54.835024Z",
     "shell.execute_reply.started": "2025-03-04T23:00:54.817944Z"
    },
    "tags": []
   },
   "outputs": [],
   "source": [
    "def preprocess_data(df):\n",
    "    encoder = LabelEncoder()\n",
    "    encoder.fit(df['activity'])\n",
    "\n",
    "    scaler = StandardScaler()\n",
    "    scaler.fit(df.drop(\"activity\", axis=1))\n",
    "    \n",
    "    X_full = scaler.transform(df.drop(\"activity\", axis=1))\n",
    "    y_full = encoder.transform(df['activity'])\n",
    "    \n",
    "    pca = PCA(random_state=42, n_components=20)\n",
    "    pca.fit(X_full)\n",
    "    X_full = pca.transform(X_full)\n",
    "    \n",
    "    X_train, X_test, y_train, y_test  = train_test_split(\n",
    "    X_full, y_full, \n",
    "    test_size=0.1,\n",
    "    random_state=42)\n",
    "    print('Полная обучающая выборка подготовлена')\n",
    "    return X_train, X_test, y_train, y_test"
   ]
  },
  {
   "cell_type": "code",
   "execution_count": 4,
   "id": "1e03b9cd-92a0-4a30-9b1c-7ac2ff99e84a",
   "metadata": {
    "execution": {
     "iopub.execute_input": "2025-03-04T23:00:54.837341Z",
     "iopub.status.busy": "2025-03-04T23:00:54.836817Z",
     "iopub.status.idle": "2025-03-04T23:02:23.294870Z",
     "shell.execute_reply": "2025-03-04T23:02:23.294119Z",
     "shell.execute_reply.started": "2025-03-04T23:00:54.837317Z"
    },
    "tags": []
   },
   "outputs": [
    {
     "name": "stdout",
     "output_type": "stream",
     "text": [
      "Полная обучающая выборка загружена\n"
     ]
    }
   ],
   "source": [
    "df = load_data_frame()"
   ]
  },
  {
   "cell_type": "code",
   "execution_count": 5,
   "id": "9e9dce68-3d95-437c-bc96-1fba5288a1ce",
   "metadata": {
    "execution": {
     "iopub.execute_input": "2025-03-04T23:02:23.296713Z",
     "iopub.status.busy": "2025-03-04T23:02:23.296041Z",
     "iopub.status.idle": "2025-03-04T23:03:51.896611Z",
     "shell.execute_reply": "2025-03-04T23:03:51.895525Z",
     "shell.execute_reply.started": "2025-03-04T23:02:23.296688Z"
    },
    "tags": []
   },
   "outputs": [
    {
     "name": "stdout",
     "output_type": "stream",
     "text": [
      "Полная обучающая выборка подготовлена\n"
     ]
    }
   ],
   "source": [
    "X_train, X_test, y_train, y_test = preprocess_data(df)"
   ]
  },
  {
   "cell_type": "code",
   "execution_count": 6,
   "id": "a434693d-21df-4e1f-a9f4-b54bd30873aa",
   "metadata": {
    "execution": {
     "iopub.execute_input": "2025-03-04T21:11:34.603348Z",
     "iopub.status.busy": "2025-03-04T21:11:34.602478Z",
     "iopub.status.idle": "2025-03-04T21:11:34.636785Z",
     "shell.execute_reply": "2025-03-04T21:11:34.636041Z",
     "shell.execute_reply.started": "2025-03-04T21:11:34.603318Z"
    },
    "tags": []
   },
   "outputs": [],
   "source": [
    "def research_fit_vs_size_time(sizes, X_train, X_test, y_train, y_test, results):\n",
    "    for size in sizes:\n",
    "        X_train_current, _ , y_train_current, _ = train_test_split(X_train, y_train, test_size=1-size, shuffle=True, random_state=42)\n",
    "\n",
    "        start_time = time.time()\n",
    "        model = RandomForestClassifier(random_state=42, n_estimators=120, max_depth=None, n_jobs=-1)\n",
    "        model.fit(X_train_current, y_train_current)\n",
    "        train_time = time.time() - start_time\n",
    "\n",
    "        y_pred = model.predict(X_test)\n",
    "\n",
    "        accuracy = accuracy_score(y_test, y_pred)\n",
    "\n",
    "        results.append({\n",
    "            'train_size_mb': X_train_current.nbytes / 2**20,\n",
    "            'train_time_sec': train_time,\n",
    "            'accuracy': accuracy,\n",
    "        })\n",
    "        print(f\"Train size: {size:.0%}, {X_train_current.nbytes / 2**20} Mb | Time: {train_time:.2f} sec | Accuracy: {accuracy}\")"
   ]
  },
  {
   "cell_type": "code",
   "execution_count": null,
   "id": "f80bf6d9-706d-476f-816b-39830b5fa793",
   "metadata": {
    "tags": []
   },
   "outputs": [],
   "source": [
    "sizes = [0.1, 0.2, 0.3, 0.4, 0.5, 0.6, 0.7, 0.8, 0.9]\n",
    "results = []\n",
    "\n",
    "research_fit_vs_size_time(sizes, X_train, X_test, y_train, y_test, results)\n",
    "\n",
    "pd.DataFrame(results).to_csv(\"time_vs_data_size.csv\", index=False)"
   ]
  },
  {
   "cell_type": "code",
   "execution_count": 6,
   "id": "7ba045c0-9dd4-4df9-b87d-d19e3d540394",
   "metadata": {
    "execution": {
     "iopub.execute_input": "2025-03-04T23:03:51.898776Z",
     "iopub.status.busy": "2025-03-04T23:03:51.898209Z",
     "iopub.status.idle": "2025-03-04T23:03:51.912315Z",
     "shell.execute_reply": "2025-03-04T23:03:51.911585Z",
     "shell.execute_reply.started": "2025-03-04T23:03:51.898746Z"
    },
    "tags": []
   },
   "outputs": [],
   "source": [
    "def research_fit_vs_cores_time(cores, X_train, X_test, y_train, y_test, results):\n",
    "    X_train_current, _ , y_train_current, _ = train_test_split(X_train, y_train, test_size=0.5, shuffle=True, random_state=42)\n",
    "    for core in cores:\n",
    "        start_time = time.time()\n",
    "        model = RandomForestClassifier(random_state=42, n_estimators=75, max_depth=None, n_jobs=core)\n",
    "        model.fit(X_train_current, y_train_current)\n",
    "        train_time = time.time() - start_time\n",
    "\n",
    "        y_pred = model.predict(X_test)\n",
    "\n",
    "        accuracy = accuracy_score(y_test, y_pred)\n",
    "\n",
    "        results.append({\n",
    "            'train_size_core': core,\n",
    "            'train_time_sec': train_time,\n",
    "            'accuracy': accuracy,\n",
    "        })\n",
    "\n",
    "        print(f\"cores: {core} | Time: {train_time:.2f} sec | Accuracy: {accuracy}\")"
   ]
  },
  {
   "cell_type": "code",
   "execution_count": null,
   "id": "9da8949b-0478-416c-a127-5f1b4cf01b07",
   "metadata": {
    "execution": {
     "iopub.execute_input": "2025-03-04T23:03:51.913670Z",
     "iopub.status.busy": "2025-03-04T23:03:51.913095Z"
    },
    "tags": []
   },
   "outputs": [
    {
     "name": "stdout",
     "output_type": "stream",
     "text": [
      "cores: 6 | Time: 1249.80 sec | Accuracy: 0.8300698739517475\n"
     ]
    }
   ],
   "source": [
    "cores = [i for i in range(6, 33, 2)]\n",
    "results = []\n",
    "\n",
    "research_fit_vs_cores_time(cores, X_train, X_test, y_train, y_test, results)\n",
    "\n",
    "pd.DataFrame(results).to_csv(\"time_vs_cores.csv\", index=False)"
   ]
  },
  {
   "cell_type": "code",
   "execution_count": null,
   "id": "d899921c-be0a-4f38-9ee0-c997985902bd",
   "metadata": {
    "execution": {
     "iopub.execute_input": "2025-03-05T05:26:50.903698Z",
     "iopub.status.busy": "2025-03-05T05:26:50.902545Z",
     "iopub.status.idle": "2025-03-05T05:26:50.923506Z",
     "shell.execute_reply": "2025-03-05T05:26:50.922277Z",
     "shell.execute_reply.started": "2025-03-05T05:26:50.903651Z"
    },
    "tags": []
   },
   "outputs": [],
   "source": [
    "def vizualization_time_vs_size():\n",
    "    df = pd.read_csv(\"time_vs_data_size.csv\")\n",
    "    \n",
    "    sns.set(style=\"whitegrid\", palette=\"muted\")\n",
    "    plt.rcParams['font.size'] = 12\n",
    "    plt.rcParams['figure.figsize'] = (14, 8)\n",
    "    \n",
    "    fig, (ax1, ax2) = plt.subplots(2, 1, sharex=True)\n",
    "    \n",
    "    sns.lineplot(data=df, x=\"train_size_mb\", y=\"train_time_sec\", \n",
    "                 ax=ax1, marker=\"o\", color=\"darkorange\", linewidth=2)\n",
    "    ax1.set_title(\"Зависимость времени обучения от объема данных\")\n",
    "    ax1.set_ylabel(\"Время (сек)\")\n",
    "    ax1.grid(True, linestyle='--', alpha=0.7)\n",
    "    \n",
    "    metrics = ['accuracy']\n",
    "    colors = ['dodgerblue']\n",
    "    \n",
    "    for metric, color in zip(metrics, colors):\n",
    "        sns.lineplot(data=df, x=\"train_size_mb\", y=metric, \n",
    "                     ax=ax2, marker=\"o\", color=color, \n",
    "                     label=metric.upper(), linewidth=2)\n",
    "    \n",
    "    ax2.set_title(\"Зависимость метрик качества от объема данных\")\n",
    "    ax2.set_xlabel(\"Объем обучающих данных (Мб)\")\n",
    "    ax2.set_ylabel(\"Значение метрики\")\n",
    "    ax2.legend(loc=\"lower right\")\n",
    "    ax2.grid(True, linestyle='--', alpha=0.7)\n",
    "    \n",
    "    plt.savefig(\"time_vs_data_size_plot.png\", dpi=300, bbox_inches='tight')\n",
    "    plt.close()"
   ]
  },
  {
   "cell_type": "code",
   "execution_count": 9,
   "id": "93c44747-ce32-49ee-befa-ebb7119778dc",
   "metadata": {
    "execution": {
     "iopub.execute_input": "2025-03-05T14:50:38.698410Z",
     "iopub.status.busy": "2025-03-05T14:50:38.697333Z",
     "iopub.status.idle": "2025-03-05T14:50:38.735968Z",
     "shell.execute_reply": "2025-03-05T14:50:38.735083Z",
     "shell.execute_reply.started": "2025-03-05T14:50:38.698366Z"
    },
    "tags": []
   },
   "outputs": [],
   "source": [
    "def vizualization_time_vs_core():\n",
    "    df = pd.read_csv(\"time_vs_cores.csv\")\n",
    "    \n",
    "    sns.set(style=\"whitegrid\", palette=\"muted\")\n",
    "    plt.rcParams['font.size'] = 12\n",
    "    plt.rcParams['figure.figsize'] = (14, 8)\n",
    "    \n",
    "    fig, (ax1) = plt.subplots(1, 1, sharex=True)\n",
    "    \n",
    "    sns.lineplot(data=df, x=\"train_size_core\", y=\"train_time_sec\", \n",
    "                 ax=ax1, marker=\"o\", color=\"darkorange\", linewidth=2)\n",
    "    ax1.set_title(\"Зависимость времени обучения от количества вычислителей\")\n",
    "    ax1.set_ylabel(\"Время (сек)\")\n",
    "    ax1.set_xlabel(\"Число вычислителей\")\n",
    "    ax1.grid(True, linestyle='--', alpha=0.7)\n",
    "\n",
    "    plt.savefig(\"time_vs_cores_plot.png\", dpi=300, bbox_inches='tight')\n",
    "    plt.close()"
   ]
  },
  {
   "cell_type": "code",
   "execution_count": 10,
   "id": "81e0e4d4-fcfb-4553-a65d-a5521739814d",
   "metadata": {
    "execution": {
     "iopub.execute_input": "2025-03-05T14:50:39.811657Z",
     "iopub.status.busy": "2025-03-05T14:50:39.810534Z",
     "iopub.status.idle": "2025-03-05T14:50:41.708155Z",
     "shell.execute_reply": "2025-03-05T14:50:41.706967Z",
     "shell.execute_reply.started": "2025-03-05T14:50:39.811613Z"
    },
    "tags": []
   },
   "outputs": [],
   "source": [
    "vizualization_time_vs_size()\n",
    "vizualization_time_vs_core()"
   ]
  },
  {
   "cell_type": "code",
   "execution_count": null,
   "id": "236c4f60-f89e-4a08-a712-23e87df5672a",
   "metadata": {},
   "outputs": [],
   "source": []
  }
 ],
 "metadata": {
  "kernelspec": {
   "display_name": "DataSphere Kernel",
   "language": "python",
   "name": "python3"
  },
  "language_info": {
   "codemirror_mode": {
    "name": "ipython",
    "version": 3
   },
   "file_extension": ".py",
   "mimetype": "text/x-python",
   "name": "python",
   "nbconvert_exporter": "python",
   "pygments_lexer": "ipython3",
   "version": "3.10.12"
  }
 },
 "nbformat": 4,
 "nbformat_minor": 5
}
